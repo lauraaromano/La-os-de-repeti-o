{
  "nbformat": 4,
  "nbformat_minor": 0,
  "metadata": {
    "colab": {
      "provenance": [],
      "authorship_tag": "ABX9TyP1+fPbTgQGitvg3oh4jbFc",
      "include_colab_link": true
    },
    "kernelspec": {
      "name": "python3",
      "display_name": "Python 3"
    },
    "language_info": {
      "name": "python"
    }
  },
  "cells": [
    {
      "cell_type": "markdown",
      "metadata": {
        "id": "view-in-github",
        "colab_type": "text"
      },
      "source": [
        "<a href=\"https://colab.research.google.com/github/lauraaromano/La-os-de-repeti-o/blob/main/corre%C3%A7%C3%A3oprovaipynb.ipynb\" target=\"_parent\"><img src=\"https://colab.research.google.com/assets/colab-badge.svg\" alt=\"Open In Colab\"/></a>"
      ]
    },
    {
      "cell_type": "code",
      "source": [
        "import random\n",
        "secreto= random.randint(1,100)\n",
        "print(secreto)\n",
        "x=0\n",
        "\n",
        "opt= int(input(\"Tente adivinhar o número secreto de 1 a 100: \"))\n",
        "\n",
        "while opt!=secreto:\n",
        "  opt= int(input(\"Tente adivinhar o número secreto de 1 a 100: \"))\n",
        "\n",
        "  if opt <=0 or opt >=100:\n",
        "    print(\"Desclassificado\")\n",
        "    break\n",
        "\n",
        "\n",
        "  if opt <=29:\n",
        "    print(\"Tente digitar um número maior\")\n",
        "    x=x+1\n",
        "    elif opt >=70:\n",
        "        print(\"Tente digitar um número menor\")\n",
        "        x=x+1\n",
        "    elif opt>29 and opt <=69:\n",
        "        print(\"Quase acertou , tente mais uma vez\")\n",
        "        x=x+1\n",
        "\n",
        "\n",
        "    opt= int(input(\"Tente adivinhar o número secreto de 1 a 100: \"))\n",
        "\n",
        "\n",
        "    if opt==secreto:\n",
        "        print(\"Parabéns , você acertou o número.\")"
      ],
      "metadata": {
        "colab": {
          "base_uri": "https://localhost:8080/",
          "height": 390
        },
        "id": "V1QLjNQYkAmO",
        "outputId": "01758700-9954-407e-d90c-66bb63f46122"
      },
      "execution_count": null,
      "outputs": [
        {
          "output_type": "stream",
          "name": "stdout",
          "text": [
            "55\n"
          ]
        },
        {
          "output_type": "error",
          "ename": "KeyboardInterrupt",
          "evalue": "Interrupted by user",
          "traceback": [
            "\u001b[0;31m---------------------------------------------------------------------------\u001b[0m",
            "\u001b[0;31mKeyboardInterrupt\u001b[0m                         Traceback (most recent call last)",
            "\u001b[0;32m<ipython-input-38-bb1c4e4c5bbf>\u001b[0m in \u001b[0;36m<cell line: 5>\u001b[0;34m()\u001b[0m\n\u001b[1;32m      3\u001b[0m \u001b[0mprint\u001b[0m\u001b[0;34m(\u001b[0m\u001b[0msecreto\u001b[0m\u001b[0;34m)\u001b[0m\u001b[0;34m\u001b[0m\u001b[0;34m\u001b[0m\u001b[0m\n\u001b[1;32m      4\u001b[0m \u001b[0;34m\u001b[0m\u001b[0m\n\u001b[0;32m----> 5\u001b[0;31m \u001b[0mopt\u001b[0m\u001b[0;34m=\u001b[0m \u001b[0mint\u001b[0m\u001b[0;34m(\u001b[0m\u001b[0minput\u001b[0m\u001b[0;34m(\u001b[0m\u001b[0;34m\"Tente adivinhar o número secreto de 1 a 100: \"\u001b[0m\u001b[0;34m)\u001b[0m\u001b[0;34m)\u001b[0m\u001b[0;34m\u001b[0m\u001b[0;34m\u001b[0m\u001b[0m\n\u001b[0m\u001b[1;32m      6\u001b[0m \u001b[0;34m\u001b[0m\u001b[0m\n\u001b[1;32m      7\u001b[0m \u001b[0;32mwhile\u001b[0m \u001b[0mopt\u001b[0m\u001b[0;34m!=\u001b[0m\u001b[0msecreto\u001b[0m\u001b[0;34m:\u001b[0m\u001b[0;34m\u001b[0m\u001b[0;34m\u001b[0m\u001b[0m\n",
            "\u001b[0;32m/usr/local/lib/python3.10/dist-packages/ipykernel/kernelbase.py\u001b[0m in \u001b[0;36mraw_input\u001b[0;34m(self, prompt)\u001b[0m\n\u001b[1;32m    849\u001b[0m                 \u001b[0;34m\"raw_input was called, but this frontend does not support input requests.\"\u001b[0m\u001b[0;34m\u001b[0m\u001b[0;34m\u001b[0m\u001b[0m\n\u001b[1;32m    850\u001b[0m             )\n\u001b[0;32m--> 851\u001b[0;31m         return self._input_request(str(prompt),\n\u001b[0m\u001b[1;32m    852\u001b[0m             \u001b[0mself\u001b[0m\u001b[0;34m.\u001b[0m\u001b[0m_parent_ident\u001b[0m\u001b[0;34m,\u001b[0m\u001b[0;34m\u001b[0m\u001b[0;34m\u001b[0m\u001b[0m\n\u001b[1;32m    853\u001b[0m             \u001b[0mself\u001b[0m\u001b[0;34m.\u001b[0m\u001b[0m_parent_header\u001b[0m\u001b[0;34m,\u001b[0m\u001b[0;34m\u001b[0m\u001b[0;34m\u001b[0m\u001b[0m\n",
            "\u001b[0;32m/usr/local/lib/python3.10/dist-packages/ipykernel/kernelbase.py\u001b[0m in \u001b[0;36m_input_request\u001b[0;34m(self, prompt, ident, parent, password)\u001b[0m\n\u001b[1;32m    893\u001b[0m             \u001b[0;32mexcept\u001b[0m \u001b[0mKeyboardInterrupt\u001b[0m\u001b[0;34m:\u001b[0m\u001b[0;34m\u001b[0m\u001b[0;34m\u001b[0m\u001b[0m\n\u001b[1;32m    894\u001b[0m                 \u001b[0;31m# re-raise KeyboardInterrupt, to truncate traceback\u001b[0m\u001b[0;34m\u001b[0m\u001b[0;34m\u001b[0m\u001b[0m\n\u001b[0;32m--> 895\u001b[0;31m                 \u001b[0;32mraise\u001b[0m \u001b[0mKeyboardInterrupt\u001b[0m\u001b[0;34m(\u001b[0m\u001b[0;34m\"Interrupted by user\"\u001b[0m\u001b[0;34m)\u001b[0m \u001b[0;32mfrom\u001b[0m \u001b[0;32mNone\u001b[0m\u001b[0;34m\u001b[0m\u001b[0;34m\u001b[0m\u001b[0m\n\u001b[0m\u001b[1;32m    896\u001b[0m             \u001b[0;32mexcept\u001b[0m \u001b[0mException\u001b[0m \u001b[0;32mas\u001b[0m \u001b[0me\u001b[0m\u001b[0;34m:\u001b[0m\u001b[0;34m\u001b[0m\u001b[0;34m\u001b[0m\u001b[0m\n\u001b[1;32m    897\u001b[0m                 \u001b[0mself\u001b[0m\u001b[0;34m.\u001b[0m\u001b[0mlog\u001b[0m\u001b[0;34m.\u001b[0m\u001b[0mwarning\u001b[0m\u001b[0;34m(\u001b[0m\u001b[0;34m\"Invalid Message:\"\u001b[0m\u001b[0;34m,\u001b[0m \u001b[0mexc_info\u001b[0m\u001b[0;34m=\u001b[0m\u001b[0;32mTrue\u001b[0m\u001b[0;34m)\u001b[0m\u001b[0;34m\u001b[0m\u001b[0;34m\u001b[0m\u001b[0m\n",
            "\u001b[0;31mKeyboardInterrupt\u001b[0m: Interrupted by user"
          ]
        }
      ]
    },
    {
      "cell_type": "code",
      "source": [
        "total=0\n",
        "cont= input(\"Deseja pagar? \")\n",
        "\n",
        "while cont == \"sim\":\n",
        "    quant = int(input(\"Digite a quantidade do produto escolhido: \"))\n",
        "    preco = float(input(\"Digite o preço desse produto: \"))\n",
        "\n",
        "    total += quant*preco\n",
        "    print(total)\n",
        "\n",
        "    cont= input(\"Deseja continuar ? \")\n",
        "\n",
        "\n",
        "    if cont != \"sim\":\n",
        "        continue\n",
        "\n",
        "if cont == \"não\":\n",
        "    print(\"Digite: 1- A vista  2- Parcelado ,  para decidir a forma de pagamento\")\n",
        "    pag= int(input(\"Digite sua escolha:\"))\n",
        "\n",
        "if pag==1:\n",
        "    print(\"Você escolheu a opção a vista\")\n",
        "\n",
        "    desconto = total*0.05\n",
        "    val= total-desconto\n",
        "    print(\"O desconto foi de \", desconto,\"e o valor total é de \",val, \"reais\")\n",
        "\n",
        "elif pag==2:\n",
        "    print(\"Você escolheu pagar parcelado.\")\n",
        "    val=total/3\n",
        "\n",
        "    print(\"O valor total da compra é\", total ,\"você terá que pagar \",val,\"por mês.\")\n",
        "\n",
        "else:\n",
        "    print(\"Você não escoheu nenhuma opção de pagamento dada, escolha novamente\")\n",
        "    print(\"Digite: 1- A vista  2- Parcelado ,  para decidir a forma de pagamento\")\n",
        "    pag= int(input(\"Digite sua escolha:\"))\n",
        "\n",
        "\n"
      ],
      "metadata": {
        "colab": {
          "base_uri": "https://localhost:8080/"
        },
        "id": "Hq1dFJgpZQKF",
        "outputId": "949c2833-b47e-4346-f450-7a7dd62cc78b"
      },
      "execution_count": null,
      "outputs": [
        {
          "output_type": "stream",
          "name": "stdout",
          "text": [
            "Deseja pagar? sim\n",
            "Digite a quantidade do produto escolhido: 23\n",
            "Digite o preço desse produto: 23\n",
            "529.0\n",
            "Deseja continuar ? sim\n",
            "Digite a quantidade do produto escolhido: 23\n",
            "Digite o preço desse produto: 23\n",
            "1058.0\n",
            "Deseja continuar ? não\n",
            "Digite: 1- A vista  2- Parcelado ,  para decidir a forma de pagamento\n",
            "Digite sua escolha:2\n",
            "Você escolheu pagar parcelado.\n",
            "O valor total da compra é 1058.0 você terá que pagar  352.6666666666667 por mês.\n"
          ]
        }
      ]
    }
  ]
}